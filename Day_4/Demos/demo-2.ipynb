{
 "cells": [
  {
   "cell_type": "code",
   "execution_count": 1,
   "metadata": {
    "scrolled": true
   },
   "outputs": [
    {
     "name": "stdout",
     "output_type": "stream",
     "text": [
      "0 (4+0j)\n",
      "1 0\n",
      "2 0\n",
      "3 0\n",
      "4 (-5.757077917265737e-15+4j)\n",
      "5 0\n",
      "6 0\n",
      "7 0\n",
      "8 (-4-1.1514155834531474e-14j)\n",
      "9 0\n",
      "10 0\n",
      "11 0\n",
      "12 (2.2600304269997962e-14-4j)\n",
      "13 0\n",
      "14 0\n"
     ]
    }
   ],
   "source": [
    "import numpy as np\n",
    "pi = np.pi\n",
    "for y in range(15):\n",
    "    coeff = np.exp(-1j*3*pi/8 * y) + \\\n",
    "            np.exp(-1j*7*pi/8 * y) + \\\n",
    "            np.exp(-1j*11*pi/8 * y) + \\\n",
    "            np.exp(-1j*15*pi/8 * y)\n",
    "    if abs(coeff) < 1e-10: coeff = 0\n",
    "    print(y, coeff)"
   ]
  }
 ],
 "metadata": {
  "kernelspec": {
   "display_name": "qgss",
   "language": "python",
   "name": "qgss"
  },
  "language_info": {
   "codemirror_mode": {
    "name": "ipython",
    "version": 3
   },
   "file_extension": ".py",
   "mimetype": "text/x-python",
   "name": "python",
   "nbconvert_exporter": "python",
   "pygments_lexer": "ipython3",
   "version": "3.8.3"
  }
 },
 "nbformat": 4,
 "nbformat_minor": 4
}
